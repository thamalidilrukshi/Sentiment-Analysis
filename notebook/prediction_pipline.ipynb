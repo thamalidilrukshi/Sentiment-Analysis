{
 "cells": [
  {
   "cell_type": "code",
   "execution_count": 78,
   "id": "0d8f446c-e8f0-42ae-83cc-8eea7483bd87",
   "metadata": {},
   "outputs": [],
   "source": [
    "import numpy as np\n",
    "import pandas as pd\n",
    "import re\n",
    "import string\n",
    "import pickle"
   ]
  },
  {
   "cell_type": "code",
   "execution_count": 79,
   "id": "a6566dd9-1b84-4abb-a2be-541da8b52b54",
   "metadata": {},
   "outputs": [],
   "source": [
    "def remove_punctuations(text):\n",
    "    for punctuation in string.punctuation:\n",
    "        text = text.replace(punctuation, \" \")\n",
    "    return text"
   ]
  },
  {
   "cell_type": "code",
   "execution_count": 80,
   "id": "075c6bff-0f34-426e-b81d-20284e18cf6a",
   "metadata": {},
   "outputs": [],
   "source": [
    "with open('../static/model/model.pickle','rb')as f:\n",
    "    model=pickle.load(f)"
   ]
  },
  {
   "cell_type": "code",
   "execution_count": 81,
   "id": "b60848f5-7bc3-4eac-aa89-05fe3ecffd9d",
   "metadata": {},
   "outputs": [],
   "source": [
    "with open('../static/model/corpora/stopwords/english','r')as file:\n",
    "    sw= file.read().splitlines()"
   ]
  },
  {
   "cell_type": "code",
   "execution_count": 82,
   "id": "e43defbe-5415-4c94-88e9-da37928c2c41",
   "metadata": {},
   "outputs": [],
   "source": [
    "vocab= pd.read_csv('../static/model/vocabulary.txt',header=None)\n",
    "tokens=vocab[0].tolist()"
   ]
  },
  {
   "cell_type": "code",
   "execution_count": 83,
   "id": "5a580f79-3daa-4e41-81fe-237d8e83248c",
   "metadata": {},
   "outputs": [],
   "source": [
    "from nltk.stem import PorterStemmer\n",
    "ps= PorterStemmer()"
   ]
  },
  {
   "cell_type": "code",
   "execution_count": 84,
   "id": "87cf35bf-e05e-4267-b94b-4758ae05cdb5",
   "metadata": {},
   "outputs": [],
   "source": [
    "def preprocessing(text):\n",
    "    data= pd.DataFrame([text],columns=['tweet'])\n",
    "    data[\"tweet\"] = data[\"tweet\"].apply(lambda x: \" \".join(x.lower() for x in x.split()))\n",
    "    data[\"tweet\"] = data[\"tweet\"].apply(lambda x: \" \".join(re.sub(r\"https?://\\S+\", \"\", y, flags=re.MULTILINE) for y in x.split()))\n",
    "    data[\"tweet\"] = data[\"tweet\"].apply(remove_punctuations)\n",
    "    data['tweet'] = data['tweet'].str.replace(r'\\d+', ' ', regex=True)\n",
    "    data['tweet'] = data['tweet'].apply(lambda x: ' '.join([word for word in x.split() if word not in sw]))\n",
    "    data['tweet'] = data['tweet'].apply(lambda x: \" \".join(ps.stem(word) for word in x.split()))\n",
    "    return data[\"tweet\"]"
   ]
  },
  {
   "cell_type": "markdown",
   "id": "50353eca-73ad-4f09-b4ea-885e76ba72bb",
   "metadata": {},
   "source": [
    "vocblaury eka ganna"
   ]
  },
  {
   "cell_type": "code",
   "execution_count": 85,
   "id": "9df6014d-f6d0-46af-9a64-d70f63fabc66",
   "metadata": {},
   "outputs": [],
   "source": [
    "def vectorizer(ds, vocabulary):\n",
    "    vectorized_list = []\n",
    "\n",
    "    for sentence in ds:\n",
    "        sentence_list = np.zeros(len(vocabulary))\n",
    "\n",
    "        for i in range(len(vocabulary)):\n",
    "            if vocabulary[i] in sentence.split():\n",
    "                sentence_list[i] = 1\n",
    "\n",
    "        vectorized_list.append(sentence_list)\n",
    "\n",
    "    vectorized_list_new = np.asarray(vectorized_list, dtype=np.float32)\n",
    "\n",
    "    return vectorized_list_new"
   ]
  },
  {
   "cell_type": "code",
   "execution_count": 90,
   "id": "391ab3f3-3c9a-4af6-ac1d-608d15435677",
   "metadata": {},
   "outputs": [],
   "source": [
    "def get_prediction(vectorized_text):\n",
    "    prediction= model.predict(vectorized_text)\n",
    "    if prediction ==1:\n",
    "        return 'negitive'\n",
    "    else:\n",
    "        return'positive'"
   ]
  },
  {
   "cell_type": "code",
   "execution_count": 91,
   "id": "cff8fa59-db72-4093-810b-d905706c3faa",
   "metadata": {},
   "outputs": [
    {
     "data": {
      "text/plain": [
       "'positive'"
      ]
     },
     "execution_count": 91,
     "metadata": {},
     "output_type": "execute_result"
    }
   ],
   "source": [
    "txt=\"good greate\"\n",
    "preprocessed_txt=preprocessing(txt)\n",
    "vectorized_txt=vectorizer(preprocessed_txt,tokens)\n",
    "prediction= get_prediction(vectorized_txt)\n",
    "prediction"
   ]
  },
  {
   "cell_type": "code",
   "execution_count": null,
   "id": "d90702b2-b95f-4ee4-83fb-bc132cf82b54",
   "metadata": {},
   "outputs": [],
   "source": []
  }
 ],
 "metadata": {
  "kernelspec": {
   "display_name": "Python 3 (ipykernel)",
   "language": "python",
   "name": "python3"
  },
  "language_info": {
   "codemirror_mode": {
    "name": "ipython",
    "version": 3
   },
   "file_extension": ".py",
   "mimetype": "text/x-python",
   "name": "python",
   "nbconvert_exporter": "python",
   "pygments_lexer": "ipython3",
   "version": "3.12.4"
  }
 },
 "nbformat": 4,
 "nbformat_minor": 5
}
